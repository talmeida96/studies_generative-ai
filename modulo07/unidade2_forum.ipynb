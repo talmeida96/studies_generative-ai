{
 "cells": [
  {
   "cell_type": "markdown",
   "id": "656260d1",
   "metadata": {},
   "source": [
    "### Olá, Alunos e Alunas!\n",
    "Até este momento do microcurso, você já estudou sobre machine learning, detecção, reconhecimento e previsão. /\n",
    "Dentre as aplicações dessas técnicas em diversos setores, apresente um exemplo para detecção, um para reconhecimento e outro para previsão. Comente cada um deles!"
   ]
  },
  {
   "cell_type": "markdown",
   "id": "26a939ce",
   "metadata": {},
   "source": [
    "---"
   ]
  },
  {
   "cell_type": "markdown",
   "id": "79890d64",
   "metadata": {},
   "source": [
    "- Detecção:\n",
    "\n",
    "Fraudes em Transações Financeiras\n",
    "\n",
    "Treinar algoritmos com um grande volume de dados de transações, tanto legítimas quanto fraudulentas. Eles aprenderão a identificar padrões sutis e anomalias que podem indicar uma fraude em tempo real, como o local, o valor, a frequência e o tipo de compra. Ao detectar um padrão suspeito, o sistema pode bloquear a transação e alertar o usuário, aumentando a segurança para clientes e instituições financeiras.\n",
    "\n",
    "- Reconhecimento:\n",
    "\n",
    "Reconhecimento Facial para Autenticação\n",
    "\n",
    "Sistemas de reconhecimento facial utilizam ML para mapear e identificar características únicas do rosto de uma pessoa. Essa \"assinatura facial\" é comparada com um banco de dados para verificar a identidade de um indivíduo. Uma aplicação comum é o desbloqueio de smartphones ou o acesso a aplicativos bancários, oferecendo uma camada de segurança biométrica rápida e conveniente.\n",
    "\n",
    "- Previsão:\n",
    "\n",
    "Demanda no Varejo\n",
    "\n",
    "Grandes redes de varejo podem usar ML para prever a demanda futura por seus produtos. Os modelos analisariam os dados históricos de vendas, sazonalidade, feriados, promoções e até mesmo tendências de mercado e previsão do tempo. Com base nisso, a empresa conseguiria otimizar seus estoques, evitando tanto a falta de produtos quanto o excesso de mercadorias paradas, o que melhora a eficiência e reduz custos."
   ]
  }
 ],
 "metadata": {
  "language_info": {
   "name": "python"
  }
 },
 "nbformat": 4,
 "nbformat_minor": 5
}
