{
 "cells": [
  {
   "cell_type": "markdown",
   "id": "5ea9f9c0",
   "metadata": {},
   "source": [
    "## Visualização de Dados\n",
    "Olá, Alunos e Alunas! Vamos conversar um pouco sobre visualização de dados. Você utiliza alguma ferramenta no seu trabalho ou em outra atividade para visualização de dados na forma de gráficos, séries ou outros tipos de representações? Comente suas experiências com essas ferramentas. Caso não utilize, como você enxerga que o uso de ferramentas de visualização de dados pode melhorar a forma de lidar com os dados em seu ambiente de trabalho ou em outras atividades que desempenhe? "
   ]
  },
  {
   "cell_type": "markdown",
   "id": "a6d7a921",
   "metadata": {},
   "source": [
    "**RESPOSTA**:\n",
    "\n",
    "Olá!\n",
    "\n",
    "No meu trabalho, já utilizei Numpy e Matplotlib, mas muito superficialmente. Também já utilizei Streamlit para construção de dashboards interativos.\n",
    "Falando em ferramentas/serviços automatizados, já utilizei: Looker Studio, Grafana, AWS Quicksight e Elastic Search (Kibana).\n",
    "\n",
    "Na maior parte do tempo, trabalho mais com a preparação dos dados (organização, limpeza e tratamento dos dados) do que com a construção de sua visualização gráfica."
   ]
  }
 ],
 "metadata": {
  "language_info": {
   "name": "python"
  }
 },
 "nbformat": 4,
 "nbformat_minor": 5
}
