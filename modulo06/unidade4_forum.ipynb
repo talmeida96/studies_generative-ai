{
 "cells": [
  {
   "cell_type": "markdown",
   "id": "9f266584",
   "metadata": {},
   "source": [
    "## Estudo de Caso do Titanic\n",
    "\n",
    "\n",
    "Olá, Alunos e Alunas! Vamos conversar um pouco sobre o estudo de caso apresentado na Unidade IV deste microcurso, que aborda vários comandos para o processamento de dados com Python usando a base de dados do Titanic. Pense em uma aplicação na qual você poderia utilizar um dos comandos vistos ou um conjunto deles para realizar uma tarefa. Comente qual seria essa aplicação. Em seguida, liste os comandos escolhidos e informe o que ele(s) faz(em) no contexto que você escolheu para aplicar."
   ]
  },
  {
   "cell_type": "markdown",
   "id": "ca472e14",
   "metadata": {},
   "source": [
    "**RESPOSTA**:\n",
    "\n",
    "Um bom uso para os comandos seria analisar o desempenho de alunos de uma escola para descobrir fatores que influenciam nas notas, como número de faltas ou o professor de uma matéria. Usaríamos uma planilha (desempenho_alunos.csv) com colunas como materia, professor, nota_final e faltas.\n",
    "\n",
    "Comando: desempenho_alunos.info()\n",
    "\n",
    "Mostra um resumo rápido da planilha, permitindo verificar se há notas faltando e se os tipos das colunas estão corretos.\n",
    "\n",
    "Comando: desempenho_alunos['nota_final'].fillna(media_notas, inplace=True)\n",
    "\n",
    "Caso houvesse notas em branco, este comando as preencheria com a média da turma, evitando a perda de registros importantes.\n",
    "\n",
    "Comando: pd.pivot_table(desempenho_alunos, values='nota_final', index='professor', aggfunc='mean')\n",
    "\n",
    "Cria uma tabela dinâmica que calcula a nota média para cada professor. Isso permite à coordenação identificar se o desempenho dos alunos varia entre diferentes docentes.\n",
    "\n",
    "Comando: sns.barplot(x='faltas', y='nota_final', data=desempenho_alunos)\n",
    "\n",
    "Gera um gráfico de barras que mostra a nota final média para diferentes quantidades de faltas. "
   ]
  }
 ],
 "metadata": {
  "language_info": {
   "name": "python"
  }
 },
 "nbformat": 4,
 "nbformat_minor": 5
}
