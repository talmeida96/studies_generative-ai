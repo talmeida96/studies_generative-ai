{
 "cells": [
  {
   "cell_type": "markdown",
   "id": "114da382",
   "metadata": {},
   "source": [
    "## Ferramentas de Visualização de Dados em Python\n",
    "\n",
    "Olá, Alunos e Alunas! Vamos conversar um pouco sobre ferramentas de visualização de dados. Agora que você estudou algumas ferramentas poderosas de visualização de dados em Python, escolha uma delas, comente como ela funciona e cite um exemplo de uso em seu ambiente de trabalho ou imagine um cenário de uso, respondendo o que se pede."
   ]
  },
  {
   "cell_type": "markdown",
   "id": "c423a93e",
   "metadata": {},
   "source": [
    "**RESPOSTA**:\n",
    "\n",
    "O Seaborn é uma biblioteca Python baseada no Matplotlib que se destaca por fornecer uma interface de alto nível para a criação de gráficos estatísticos atraentes e informativos. Ele abstrai a complexidade do Matplotlib e simplifica o processo com funções prontas para gráficos mais comuns, além de se integrar nativamente com estruturas de dados do Pandas, permitindo a plotagem de dataframes inteiros com comandos fáceis e intuitivos.\n",
    "\n",
    "Exemplo de caso de uso:\n",
    "\n",
    "Uma construtora possui o histórico de dados de orçamentos de projetos anteriores, contendo informações como: área construída (m²), tipo de obra (residencial, comercial, industrial), custo de material e custo de mão de obra (R$), duração do projeto (meses) e custo total final (R$).\n",
    "\n",
    "Um engenheiro de custos pode utilizar o Seaborn para criar um gráfico de dispersão (scatterplot) com uma linha de regressão para visualizar a relação entre a \"Área construída\" e o \"Custo Total Final\" dos projetos."
   ]
  }
 ],
 "metadata": {
  "language_info": {
   "name": "python"
  }
 },
 "nbformat": 4,
 "nbformat_minor": 5
}
